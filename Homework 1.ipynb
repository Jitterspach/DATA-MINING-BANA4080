{
 "cells": [
  {
   "metadata": {},
   "cell_type": "markdown",
   "source": [
    "# HOMEWORK 1\n",
    "Joe Ritterspach\n",
    "----\n",
    "### 1"
   ],
   "id": "2f546997c991cf6d"
  },
  {
   "metadata": {},
   "cell_type": "code",
   "source": [
    "budget = 1000\n",
    "attendees = 75\n",
    "cost_per_person = 12.25\n",
    "\n",
    "total_cost = attendees * cost_per_person\n",
    "\n",
    "if total_cost < budget:\n",
    "    print(\"within budget\")\n",
    "else:\n",
    "    print(\"over budget\")\n"
   ],
   "id": "c95d47c8150e9ff",
   "outputs": [],
   "execution_count": null
  },
  {
   "metadata": {},
   "cell_type": "markdown",
   "source": "### 1.1",
   "id": "265dd1cef9d76305"
  },
  {
   "metadata": {},
   "cell_type": "code",
   "source": [
    "tickets_sold = 56\n",
    "ticket_price = 10.5\n",
    "\n",
    "revenue = total_cost * tickets_sold\n",
    "\n",
    "print(f\"${revenue}0\")"
   ],
   "id": "99e65e0654888400",
   "outputs": [],
   "execution_count": null
  },
  {
   "metadata": {},
   "cell_type": "markdown",
   "source": "### 1.2",
   "id": "b2cd2189759e7d90"
  },
  {
   "metadata": {},
   "cell_type": "code",
   "source": [
    "!pip install numpy\n",
    "\n",
    "import numpy as np\n",
    "\n",
    "diam_med = 13\n",
    "diam_lrg = 15\n",
    "cost_med = 18\n",
    "cost_lrg = 20.50\n",
    "\n",
    "area_med = np.pi * ((diam_med / 2) ** 2)\n",
    "area_lrg = np.pi * ((diam_lrg / 2) ** 2)\n",
    "\n",
    "cost_per_in_med = cost_med / area_med\n",
    "cost_per_in_lrg = cost_lrg / area_lrg\n",
    "\n",
    "print(f\"The 13inch pizza is cheaper: {cost_per_in_med > cost_per_in_lrg}\")"
   ],
   "id": "c15c9eda4569453d",
   "outputs": [],
   "execution_count": null
  },
  {
   "metadata": {},
   "cell_type": "markdown",
   "source": "### 1.3",
   "id": "858b0e194c5ad1b6"
  },
  {
   "metadata": {},
   "cell_type": "code",
   "source": [
    "movie_title = \"The Lord of the Rings: The Return of the King\"\n",
    "\n",
    "print(f\"Number of characters: {len(movie_title)}\")\n",
    "print(movie_title.upper())\n",
    "\n",
    "contains_king = \"King\" in movie_title\n",
    "\n",
    "print(f\"Contains 'king':\", contains_king)"
   ],
   "id": "a491816323367632",
   "outputs": [],
   "execution_count": null
  },
  {
   "metadata": {},
   "cell_type": "markdown",
   "source": "### 2.1",
   "id": "c8dca7c1498a26e3"
  },
  {
   "metadata": {},
   "cell_type": "code",
   "source": [
    "playlist = [\"Let It Be\", \"Hey Jude\", \"Blackbird\", \"Yesterday\", \"Come Together\"]\n",
    "\n",
    "print(f\"Track 3 is {playlist[2]}\")\n",
    "\n",
    "playlist.extend([\"Something\", \"Eleanor Rigby\"])\n",
    "playlist.remove(\"Yesterday\")\n",
    "\n",
    "print(playlist)"
   ],
   "id": "4c768a97faf8bcf6",
   "outputs": [],
   "execution_count": null
  },
  {
   "metadata": {},
   "cell_type": "markdown",
   "source": "### 2.2",
   "id": "88c094a363fb34e5"
  },
  {
   "metadata": {},
   "cell_type": "code",
   "source": [
    "coordinates =  (39.7589, -84.1916)\n",
    "lat, lon = coordinates\n",
    "\n",
    "print(coordinates[0])\n",
    "\n",
    "# \"AttributeError: 'tuple' object has no attribute 'remove' \"\n",
    "\n",
    "print(lat)\n",
    "print(lon)"
   ],
   "id": "37d8e1bfffcabde5",
   "outputs": [],
   "execution_count": null
  },
  {
   "metadata": {},
   "cell_type": "markdown",
   "source": "### 2.3",
   "id": "12294830a8867aab"
  },
  {
   "metadata": {},
   "cell_type": "code",
   "source": [
    "courses = {\"Math\": 90, \"History\": 85, \"Biology\": 88}\n",
    "\n",
    "print(courses[\"History\"])\n",
    "\n",
    "courses[\"English\"] = 92\n",
    "\n",
    "courses[\"Biology\"] = 90\n",
    "\n",
    "# These are just to test\n",
    "print(courses[\"Biology\"])\n",
    "print(courses)"
   ],
   "id": "4fa794f5a10165e3",
   "outputs": [],
   "execution_count": null
  },
  {
   "metadata": {},
   "cell_type": "markdown",
   "source": "",
   "id": "bb3343d9e46d8a18"
  }
 ],
 "metadata": {
  "kernelspec": {
   "display_name": "Python 3",
   "language": "python",
   "name": "python3"
  },
  "language_info": {
   "codemirror_mode": {
    "name": "ipython",
    "version": 2
   },
   "file_extension": ".py",
   "mimetype": "text/x-python",
   "name": "python",
   "nbconvert_exporter": "python",
   "pygments_lexer": "ipython2",
   "version": "2.7.6"
  }
 },
 "nbformat": 4,
 "nbformat_minor": 5
}
