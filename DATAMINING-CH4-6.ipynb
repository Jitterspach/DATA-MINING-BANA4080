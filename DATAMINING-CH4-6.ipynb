{
 "cells": [
  {
   "metadata": {},
   "cell_type": "markdown",
   "source": [
    "# CHAPTER 4 -- Basics of Using a Jupyter Notebook\n",
    "-----\n",
    "*After some toying around, I believe to have them setup within PyCharm and linked to my Github*\n",
    "\n",
    "**Benefits:**\n",
    "- Allows for integration of text and images with the code for explanations\n",
    "- Easily shared (as shown with my Github)\n",
    "- Markdown and LaTeX (which I already have experience with in Obsidian.md)\n",
    "\n",
    "**Drawbacks:**\n",
    "- Hard to modularize and test\n",
    "- Poor version control\n",
    "- Execution order issues\n",
    "--> Applicable scripts should use .py files to ensure functionality\n",
    "\n",
    "### Code Execution and State:\n",
    "- Code is executed in the order the cells are ran--not top-to-bottom.\n",
    "--> This allows for definitions to hold true across the entire notebook\n",
    "--> This is known as KERNEL\n",
    "\n",
    "### METHODS\n",
    "- %run your_script.py\n",
    "- %load your_script.py\n",
    "- import your_script.py\n"
   ],
   "id": "b65f962d943bf2cd"
  },
  {
   "metadata": {},
   "cell_type": "code",
   "source": [
    "# Exercise 4.7\n",
    "# Calculating calories per dollar for three combo meals to maximize value\n",
    "# Learn new function from ChatGPT to automate the rankings--important for larger matrices\n",
    "meals = [\n",
    "    (\"Combo 1\", 7.50, 500),\n",
    "    (\"Combo 2\", 9, 700),\n",
    "    (\"Combo 3\", 10.50, 900)\n",
    "]\n",
    "\n",
    "meal_values = []\n",
    "for name, price, calories in meals:\n",
    "    value = calories / price\n",
    "    meal_values.append((name, value))\n",
    "\n",
    "meal_values.sort(key=lambda x: x[1], reverse=True)\n",
    "print(\"Ranking of combo meals by value:\")\n",
    "for rank, (name, value) in enumerate(meal_values, start=1):\n",
    "    print(f\"{rank}. {name} - {value:.2f} cal/$\")\n"
   ],
   "id": "6def68514b559e14",
   "outputs": [],
   "execution_count": null
  },
  {
   "metadata": {},
   "cell_type": "markdown",
   "source": [
    " # Lecture\n",
    " # Data Structures, Packages and Libraries\n",
    " ------\n",
    " **Built-In Structures:**\n",
    " 1. Dictionary for ordered sequences\n",
    "    Ex. prices = {\"apple\": .99, \"banana\": .59}\n",
    "    --> very efficient for looking up values\n",
    "2. Tuple for immutible lists\n",
    "    Ex. location = (39, -84)\n",
    "    --> They will never be modified\n",
    "3. List for no duplicates\n",
    "    Ex. playlist = [\"intro\", \"track 1\",]\n",
    "   --> maintains order but allows for modification\n",
    "4. Set for unordered\n",
    "    Uses {}\n",
    "    --> automatically removes duplicates\n",
    "\n",
    "*These structures can be combined and places within each other for benefits of both*\n",
    "\n",
    "**Packages, Libraries, and Modules:**\n",
    "*Python does not have much capabilities on its own--just basic stuff*\n",
    "- Ex. numpy has correlation analysis built in\n",
    "- --> These give an endless number of functions that save you from writing everything out when they're commonly used\n",
    "\n",
    "- MODULE--> Single .py file\n",
    "- LIBRARY --> Group of modules\n"
   ],
   "id": "f04b59043d85fad0"
  },
  {
   "metadata": {},
   "cell_type": "markdown",
   "source": [
    "# CH 5 - Libraries\n",
    "----\n",
    "- Standard libraries are built into python, but must be accessed using 'import'\n",
    "--> Commonly used: math, os, datetime, random"
   ],
   "id": "8f6cacf8301d7e78"
  },
  {
   "metadata": {},
   "cell_type": "code",
   "source": [
    "!pip install bokeh\n",
    "!pip install numpy\n",
    "\n",
    "import numpy as np\n",
    "import bokeh.plotting\n",
    "import bokeh.io\n",
    "import bokeh.models\n",
    "\n",
    "bokeh.io.output_notebook()\n",
    "\n",
    "t = np.linspace(0, 2*np.pi, 200)\n",
    "x = 12 * np.sin(t)**3\n",
    "y = 15 * np.cos(t) - 5 * np.cos(2*t) - 2 * np.cos(3*t) - np.cos(4*t)\n",
    "# 1 - I chose to simplify these equations to better see what's happening\n",
    "# 2 - I guess we're going to graph these equations\n",
    "\n",
    "p = bokeh.plotting.figure(height=250, width=275)\n",
    "p.line(x, y, color='red', line_width=3)\n",
    "text = bokeh.models.Label(x=0, y=0, text='BANA 4080', text_align='center')\n",
    "p.add_layout(text)\n",
    "\n",
    "bokeh.io.show(p)\n",
    "\n",
    "# Sike, I changed the equations to see the heart\n",
    "# numpy does the calculations while bokeh has the graphing of the equations\n",
    "# text line created the label and placed it at (0,0)"
   ],
   "id": "6c64bcebb111fc23",
   "outputs": [],
   "execution_count": null
  }
 ],
 "metadata": {
  "kernelspec": {
   "display_name": "Python 3",
   "language": "python",
   "name": "python3"
  },
  "language_info": {
   "codemirror_mode": {
    "name": "ipython",
    "version": 2
   },
   "file_extension": ".py",
   "mimetype": "text/x-python",
   "name": "python",
   "nbconvert_exporter": "python",
   "pygments_lexer": "ipython2",
   "version": "2.7.6"
  }
 },
 "nbformat": 4,
 "nbformat_minor": 5
}
