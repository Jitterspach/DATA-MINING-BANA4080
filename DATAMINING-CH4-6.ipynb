{
 "cells": [
  {
   "metadata": {},
   "cell_type": "markdown",
   "source": [
    "# CHAPTER 4 -- Basics of Using a Jupyter Notebook\n",
    "-----\n",
    "*After some toying around, I believe to have them setup within PyCharm and linked to my Github*\n",
    "\n",
    "**Benefits:**\n",
    "- Allows for integration of text and images with the code for explanations\n",
    "- Easily shared (as shown with my Github)\n",
    "- Markdown and LaTeX (which I already have experience with in Obsidian.md)\n",
    "\n",
    "**Drawbacks:**\n",
    "- Hard to modularize and test\n",
    "- Poor version control\n",
    "- Execution order issues\n",
    "--> Applicable scripts should use .py files to ensure functionality\n",
    "\n",
    "### Code Execution and State:\n",
    "- Code is executed in the order the cells are ran--not top-to-bottom.\n",
    "--> This allows for definitions to hold true across the entire notebook\n",
    "--> This is known as KERNEL\n",
    "\n",
    "### METHODS\n",
    "- %run your_script.py\n",
    "- %load your_script.py\n",
    "- import your_script.py\n"
   ],
   "id": "b65f962d943bf2cd"
  },
  {
   "metadata": {
    "ExecuteTime": {
     "end_time": "2025-09-01T16:15:28.772487Z",
     "start_time": "2025-09-01T16:15:28.766298Z"
    }
   },
   "cell_type": "code",
   "source": [
    "# Exercise 4.7\n",
    "# Calculating calories per dollar for three combo meals to maximize value\n",
    "# Learn new function from ChatGPT to automate the rankings--important for larger matrices\n",
    "meals = [\n",
    "    (\"Combo 1\", 7.50, 500),\n",
    "    (\"Combo 2\", 9, 700),\n",
    "    (\"Combo 3\", 10.50, 900)\n",
    "]\n",
    "\n",
    "meal_values = []\n",
    "for name, price, calories in meals:\n",
    "    value = calories / price\n",
    "    meal_values.append((name, value))\n",
    "\n",
    "meal_values.sort(key=lambda x: x[1], reverse=True)\n",
    "print(\"Ranking of combo meals by value:\")\n",
    "for rank, (name, value) in enumerate(meal_values, start=1):\n",
    "    print(f\"{rank}. {name} - {value:.2f} cal/$\")\n"
   ],
   "id": "6def68514b559e14",
   "outputs": [
    {
     "name": "stdout",
     "output_type": "stream",
     "text": [
      "Ranking of combo meals by value:\n",
      "1. Combo 3 - 85.71 cal/$\n",
      "2. Combo 2 - 77.78 cal/$\n",
      "3. Combo 1 - 66.67 cal/$\n"
     ]
    }
   ],
   "execution_count": 1
  }
 ],
 "metadata": {
  "kernelspec": {
   "display_name": "Python 3",
   "language": "python",
   "name": "python3"
  },
  "language_info": {
   "codemirror_mode": {
    "name": "ipython",
    "version": 2
   },
   "file_extension": ".py",
   "mimetype": "text/x-python",
   "name": "python",
   "nbconvert_exporter": "python",
   "pygments_lexer": "ipython2",
   "version": "2.7.6"
  }
 },
 "nbformat": 4,
 "nbformat_minor": 5
}
